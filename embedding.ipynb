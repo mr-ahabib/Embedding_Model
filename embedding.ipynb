{
 "cells": [
  {
   "cell_type": "code",
   "execution_count": 1,
   "id": "5528471f",
   "metadata": {},
   "outputs": [
    {
     "name": "stdout",
     "output_type": "stream",
     "text": [
      "Requirement already satisfied: pymupdf in c:\\users\\ahash\\appdata\\local\\programs\\python\\python312\\lib\\site-packages (1.26.4)\n",
      "Requirement already satisfied: faiss-cpu in c:\\users\\ahash\\appdata\\local\\programs\\python\\python312\\lib\\site-packages (1.12.0)\n",
      "Requirement already satisfied: sentence-transformers in c:\\users\\ahash\\appdata\\local\\programs\\python\\python312\\lib\\site-packages (5.1.0)\n",
      "Requirement already satisfied: numpy<3.0,>=1.25.0 in c:\\users\\ahash\\appdata\\local\\programs\\python\\python312\\lib\\site-packages (from faiss-cpu) (2.3.2)\n",
      "Requirement already satisfied: packaging in c:\\users\\ahash\\appdata\\local\\programs\\python\\python312\\lib\\site-packages (from faiss-cpu) (25.0)\n",
      "Requirement already satisfied: transformers<5.0.0,>=4.41.0 in c:\\users\\ahash\\appdata\\local\\programs\\python\\python312\\lib\\site-packages (from sentence-transformers) (4.55.4)\n",
      "Requirement already satisfied: tqdm in c:\\users\\ahash\\appdata\\local\\programs\\python\\python312\\lib\\site-packages (from sentence-transformers) (4.67.1)\n",
      "Requirement already satisfied: torch>=1.11.0 in c:\\users\\ahash\\appdata\\local\\programs\\python\\python312\\lib\\site-packages (from sentence-transformers) (2.8.0)\n",
      "Requirement already satisfied: scikit-learn in c:\\users\\ahash\\appdata\\local\\programs\\python\\python312\\lib\\site-packages (from sentence-transformers) (1.7.1)\n",
      "Requirement already satisfied: scipy in c:\\users\\ahash\\appdata\\local\\programs\\python\\python312\\lib\\site-packages (from sentence-transformers) (1.16.1)\n",
      "Requirement already satisfied: huggingface-hub>=0.20.0 in c:\\users\\ahash\\appdata\\local\\programs\\python\\python312\\lib\\site-packages (from sentence-transformers) (0.35.1)\n",
      "Requirement already satisfied: Pillow in c:\\users\\ahash\\appdata\\local\\programs\\python\\python312\\lib\\site-packages (from sentence-transformers) (11.3.0)\n",
      "Requirement already satisfied: typing_extensions>=4.5.0 in c:\\users\\ahash\\appdata\\local\\programs\\python\\python312\\lib\\site-packages (from sentence-transformers) (4.15.0)\n",
      "Requirement already satisfied: filelock in c:\\users\\ahash\\appdata\\local\\programs\\python\\python312\\lib\\site-packages (from huggingface-hub>=0.20.0->sentence-transformers) (3.19.1)\n",
      "Requirement already satisfied: fsspec>=2023.5.0 in c:\\users\\ahash\\appdata\\local\\programs\\python\\python312\\lib\\site-packages (from huggingface-hub>=0.20.0->sentence-transformers) (2025.7.0)\n",
      "Requirement already satisfied: pyyaml>=5.1 in c:\\users\\ahash\\appdata\\local\\programs\\python\\python312\\lib\\site-packages (from huggingface-hub>=0.20.0->sentence-transformers) (6.0.2)\n",
      "Requirement already satisfied: requests in c:\\users\\ahash\\appdata\\local\\programs\\python\\python312\\lib\\site-packages (from huggingface-hub>=0.20.0->sentence-transformers) (2.32.5)\n",
      "Requirement already satisfied: sympy>=1.13.3 in c:\\users\\ahash\\appdata\\local\\programs\\python\\python312\\lib\\site-packages (from torch>=1.11.0->sentence-transformers) (1.14.0)\n",
      "Requirement already satisfied: networkx in c:\\users\\ahash\\appdata\\local\\programs\\python\\python312\\lib\\site-packages (from torch>=1.11.0->sentence-transformers) (3.5)\n",
      "Requirement already satisfied: jinja2 in c:\\users\\ahash\\appdata\\local\\programs\\python\\python312\\lib\\site-packages (from torch>=1.11.0->sentence-transformers) (3.1.6)\n",
      "Requirement already satisfied: setuptools in c:\\users\\ahash\\appdata\\local\\programs\\python\\python312\\lib\\site-packages (from torch>=1.11.0->sentence-transformers) (80.9.0)\n",
      "Requirement already satisfied: colorama in c:\\users\\ahash\\appdata\\local\\programs\\python\\python312\\lib\\site-packages (from tqdm->sentence-transformers) (0.4.6)\n",
      "Requirement already satisfied: regex!=2019.12.17 in c:\\users\\ahash\\appdata\\local\\programs\\python\\python312\\lib\\site-packages (from transformers<5.0.0,>=4.41.0->sentence-transformers) (2025.7.34)\n",
      "Requirement already satisfied: tokenizers<0.22,>=0.21 in c:\\users\\ahash\\appdata\\local\\programs\\python\\python312\\lib\\site-packages (from transformers<5.0.0,>=4.41.0->sentence-transformers) (0.21.4)\n",
      "Requirement already satisfied: safetensors>=0.4.3 in c:\\users\\ahash\\appdata\\local\\programs\\python\\python312\\lib\\site-packages (from transformers<5.0.0,>=4.41.0->sentence-transformers) (0.6.2)\n",
      "Requirement already satisfied: joblib>=1.2.0 in c:\\users\\ahash\\appdata\\local\\programs\\python\\python312\\lib\\site-packages (from scikit-learn->sentence-transformers) (1.5.1)\n",
      "Requirement already satisfied: threadpoolctl>=3.1.0 in c:\\users\\ahash\\appdata\\local\\programs\\python\\python312\\lib\\site-packages (from scikit-learn->sentence-transformers) (3.6.0)\n",
      "Requirement already satisfied: mpmath<1.4,>=1.1.0 in c:\\users\\ahash\\appdata\\local\\programs\\python\\python312\\lib\\site-packages (from sympy>=1.13.3->torch>=1.11.0->sentence-transformers) (1.3.0)\n",
      "Requirement already satisfied: MarkupSafe>=2.0 in c:\\users\\ahash\\appdata\\local\\programs\\python\\python312\\lib\\site-packages (from jinja2->torch>=1.11.0->sentence-transformers) (3.0.2)\n",
      "Requirement already satisfied: charset_normalizer<4,>=2 in c:\\users\\ahash\\appdata\\local\\programs\\python\\python312\\lib\\site-packages (from requests->huggingface-hub>=0.20.0->sentence-transformers) (3.4.3)\n",
      "Requirement already satisfied: idna<4,>=2.5 in c:\\users\\ahash\\appdata\\local\\programs\\python\\python312\\lib\\site-packages (from requests->huggingface-hub>=0.20.0->sentence-transformers) (3.10)\n",
      "Requirement already satisfied: urllib3<3,>=1.21.1 in c:\\users\\ahash\\appdata\\local\\programs\\python\\python312\\lib\\site-packages (from requests->huggingface-hub>=0.20.0->sentence-transformers) (2.5.0)\n",
      "Requirement already satisfied: certifi>=2017.4.17 in c:\\users\\ahash\\appdata\\local\\programs\\python\\python312\\lib\\site-packages (from requests->huggingface-hub>=0.20.0->sentence-transformers) (2025.8.3)\n"
     ]
    },
    {
     "name": "stderr",
     "output_type": "stream",
     "text": [
      "\n",
      "[notice] A new release of pip is available: 24.0 -> 25.2\n",
      "[notice] To update, run: python.exe -m pip install --upgrade pip\n"
     ]
    }
   ],
   "source": [
    "!pip install pymupdf faiss-cpu sentence-transformers"
   ]
  },
  {
   "cell_type": "code",
   "execution_count": null,
   "id": "168a8708",
   "metadata": {},
   "outputs": [
    {
     "name": "stdout",
     "output_type": "stream",
     "text": [
      "Found 30 PDF files in 'Text Books Of Medicine'\n",
      "Processing: Text Books Of Medicine\\(Churchill’s Pocketbook  Differential Diagnosis 3ed.pdf\n",
      "Processing: Text Books Of Medicine\\ABC of urology 3ed.pdf\n",
      "Processing: Text Books Of Medicine\\Andrews’ Diseases of the Skin Clinical Atlas.pdf\n",
      "Processing: Text Books Of Medicine\\Blueprints Of Family Medicine 3ed.pdf\n",
      "Processing: Text Books Of Medicine\\Blueprints Of Neurology 3ed.pdf\n",
      "Processing: Text Books Of Medicine\\Bryan Epidemiology and Biostatistics 2ed [Shared by Ussama Maqbool].pdf\n",
      "Processing: Text Books Of Medicine\\Color Atlas of Autopsy [Shared by Ussama Maqbool].pdf\n",
      "Processing: Text Books Of Medicine\\Color Atlas of Forensic Medicine [Shared by Ussama Maqbool].pdf\n",
      "Processing: Text Books Of Medicine\\Conrad Fischer - Master the Boards USMLE Step 2 CK 2019.pdf\n",
      "Processing: Text Books Of Medicine\\Davidson_s Essentials of Medicine 2ed.pdf\n",
      "Processing: Text Books Of Medicine\\Davidson’s Principles and practice of medicine 23ed.pdf\n",
      "Processing: Text Books Of Medicine\\Essentials of Kumar & Clark’s Clinical Medicine 6ed.pdf\n",
      "Processing: Text Books Of Medicine\\Harrison’s Principles of Internal Medicine 20ed.pdf\n",
      "Processing: Text Books Of Medicine\\Internal Medicine On Call (LANGE On Call).pdf\n",
      "Processing: Text Books Of Medicine\\Kirkwood Essentials Medical Statistics 2ed [Shared by Ussama Maqbool].pdf\n",
      "Processing: Text Books Of Medicine\\Kumar & Clarks Clinical Medicine 9ed.pdf\n",
      "Processing: Text Books Of Medicine\\Mahajan Gupta Textbook of Preventive Social Medicine 4ed [Shared by Ussama Maqbool].pdf\n",
      "Processing: Text Books Of Medicine\\Monicas District Labs in Tropical Countries Part 1 [Shared by Ussama Maqbool].pdf\n",
      "Processing: Text Books Of Medicine\\Monicas District Labs in Tropical Countries Part 2[Shared by Ussama Maqbool].pdf\n",
      "Processing: Text Books Of Medicine\\Oxford Handbook of Clinical Specialties 10ed.pdf\n",
      "Processing: Text Books Of Medicine\\Oxford handbook of tropical medicine 4ed.pdf\n",
      "Processing: Text Books Of Medicine\\Park_s Textbook of Preventive and Social Medicine 23ed [Shared by Ussama Maqbool].pdf\n",
      "Processing: Text Books Of Medicine\\Rachael Morris-Jones - ABC of Dermatology  6ed.pdf\n",
      "Processing: Text Books Of Medicine\\Shorter Oxford Textbook of Psychiatry 7ed.pdf\n",
      "Processing: Text Books Of Medicine\\Simpson_s Forensic Medicine 13ed [Shared By Ussama Maqbool].pdf\n",
      "Processing: Text Books Of Medicine\\Smith and Tanagho_s General Urology 18ed.pdf\n",
      "Processing: Text Books Of Medicine\\Textbook of Forensic Medicine and Toxicology 5ed [Shared by Ussama Maqbool].pdf\n",
      "Processing: Text Books Of Medicine\\USMLE Step 2 CK Lecture Notes 2018 Internal Medicine.pdf\n",
      "Processing: Text Books Of Medicine\\USMLE Step 2 CK Lecture Notes 2018.pdf\n",
      "Processing: Text Books Of Medicine\\USMLE Step 2 Ck Psychiatry, Epidemiolgy, & Ethics Lecture Notes.pdf\n",
      "Total chunks created: 120589\n",
      "Generating embeddings...\n",
      "Building FAISS index...\n",
      "✅ Saved 120589 chunks into faiss.index and index.pkl\n"
     ]
    }
   ],
   "source": [
    "import os\n",
    "import faiss\n",
    "import pickle\n",
    "import fitz\n",
    "from sentence_transformers import SentenceTransformer\n",
    "\n",
    "EMBED_MODEL = \"sentence-transformers/all-MiniLM-L12-v2\"\n",
    "embedder = SentenceTransformer(EMBED_MODEL)\n",
    "dimension = embedder.get_sentence_embedding_dimension()\n",
    "\n",
    "def build_faiss_from_folder(folder_path, index_file=\"faiss.index\", metadata_file=\"index.pkl\"):\n",
    "    documents, metadata = [], []\n",
    "\n",
    "    pdf_files = [os.path.join(folder_path, f) for f in os.listdir(folder_path) if f.lower().endswith(\".pdf\")]\n",
    "    print(f\"Found {len(pdf_files)} PDF files in '{folder_path}'\")\n",
    "\n",
    "    for pdf_file in pdf_files:\n",
    "        print(f\"Processing: {pdf_file}\")\n",
    "        doc = fitz.open(pdf_file)\n",
    "        for page_num in range(len(doc)):\n",
    "            text = doc[page_num].get_text(\"text\")\n",
    "            if text:\n",
    "                chunks = [text[i:i+800] for i in range(0, len(text), 800)]\n",
    "                for chunk in chunks:\n",
    "                    documents.append(chunk)\n",
    "                    metadata.append(f\"{pdf_file} - page {page_num+1}\")\n",
    "        doc.close()\n",
    "\n",
    "    print(f\"Total chunks created: {len(documents)}\")\n",
    "    print(\"Generating embeddings...\")\n",
    "    embeddings = embedder.encode(documents, convert_to_numpy=True)\n",
    "\n",
    "    print(\"Building FAISS index...\")\n",
    "    index = faiss.IndexFlatL2(dimension)\n",
    "    index.add(embeddings)\n",
    "\n",
    "    faiss.write_index(index, index_file)\n",
    "    with open(metadata_file, \"wb\") as f:\n",
    "        pickle.dump({\"documents\": documents, \"metadata\": metadata}, f)\n",
    "\n",
    "    print(f\"Saved {len(documents)} chunks into {index_file} and {metadata_file}\")\n",
    "\n",
    "books_folder = \"Text Books Of Medicine\"  \n",
    "build_faiss_from_folder(books_folder)\n"
   ]
  }
 ],
 "metadata": {
  "kernelspec": {
   "display_name": "Python 3",
   "language": "python",
   "name": "python3"
  },
  "language_info": {
   "codemirror_mode": {
    "name": "ipython",
    "version": 3
   },
   "file_extension": ".py",
   "mimetype": "text/x-python",
   "name": "python",
   "nbconvert_exporter": "python",
   "pygments_lexer": "ipython3",
   "version": "3.12.3"
  }
 },
 "nbformat": 4,
 "nbformat_minor": 5
}
